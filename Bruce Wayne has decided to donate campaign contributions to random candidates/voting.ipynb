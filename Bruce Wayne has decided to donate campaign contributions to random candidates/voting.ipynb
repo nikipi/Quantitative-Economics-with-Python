{
 "cells": [
  {
   "cell_type": "code",
   "execution_count": 1,
   "metadata": {},
   "outputs": [],
   "source": [
    "import pandas as pd\n",
    "url='/Users/apple/Desktop/votingData.csv'\n",
    "df=pd.read_csv(url)\n",
    "import pandas as pd\n",
    "import numpy as np\n",
    "import ssl\n",
    "from collections import Counter\n",
    "import matplotlib.pyplot as plt"
   ]
  },
  {
   "cell_type": "code",
   "execution_count": 18,
   "metadata": {},
   "outputs": [
    {
     "data": {
      "text/html": [
       "<div>\n",
       "<style scoped>\n",
       "    .dataframe tbody tr th:only-of-type {\n",
       "        vertical-align: middle;\n",
       "    }\n",
       "\n",
       "    .dataframe tbody tr th {\n",
       "        vertical-align: top;\n",
       "    }\n",
       "\n",
       "    .dataframe thead th {\n",
       "        text-align: right;\n",
       "    }\n",
       "</style>\n",
       "<table border=\"1\" class=\"dataframe\">\n",
       "  <thead>\n",
       "    <tr style=\"text-align: right;\">\n",
       "      <th></th>\n",
       "      <th>Unnamed: 0</th>\n",
       "      <th>county</th>\n",
       "      <th>year</th>\n",
       "      <th>campaignDonation</th>\n",
       "      <th>votePercent</th>\n",
       "      <th>const</th>\n",
       "    </tr>\n",
       "  </thead>\n",
       "  <tbody>\n",
       "    <tr>\n",
       "      <th>0</th>\n",
       "      <td>1</td>\n",
       "      <td>1</td>\n",
       "      <td>1</td>\n",
       "      <td>50.296246</td>\n",
       "      <td>0.383584</td>\n",
       "      <td>1</td>\n",
       "    </tr>\n",
       "    <tr>\n",
       "      <th>1</th>\n",
       "      <td>2</td>\n",
       "      <td>1</td>\n",
       "      <td>2</td>\n",
       "      <td>50.477089</td>\n",
       "      <td>0.381302</td>\n",
       "      <td>1</td>\n",
       "    </tr>\n",
       "  </tbody>\n",
       "</table>\n",
       "</div>"
      ],
      "text/plain": [
       "   Unnamed: 0  county  year  campaignDonation  votePercent  const\n",
       "0           1       1     1         50.296246     0.383584      1\n",
       "1           2       1     2         50.477089     0.381302      1"
      ]
     },
     "execution_count": 18,
     "metadata": {},
     "output_type": "execute_result"
    }
   ],
   "source": [
    "df.head(2)\n"
   ]
  },
  {
   "cell_type": "code",
   "execution_count": 23,
   "metadata": {},
   "outputs": [],
   "source": [
    "import statsmodels.api as sm\n",
    "from statsmodels.iolib.summary2 import summary_col \n",
    "from linearmodels.iv import IV2SLS\n",
    "df['const']=1\n",
    "X1=['campaignDonation']"
   ]
  },
  {
   "cell_type": "code",
   "execution_count": 30,
   "metadata": {},
   "outputs": [],
   "source": [
    "reg1 = sm.OLS(endog=df['votePercent'], exog=df[['const', 'campaignDonation']],missing='drop').fit()"
   ]
  },
  {
   "cell_type": "code",
   "execution_count": 31,
   "metadata": {},
   "outputs": [
    {
     "name": "stdout",
     "output_type": "stream",
     "text": [
      "                            OLS Regression Results                            \n",
      "==============================================================================\n",
      "Dep. Variable:            votePercent   R-squared:                       0.914\n",
      "Model:                            OLS   Adj. R-squared:                  0.914\n",
      "Method:                 Least Squares   F-statistic:                 1.062e+04\n",
      "Date:                Wed, 01 Jul 2020   Prob (F-statistic):               0.00\n",
      "Time:                        16:31:00   Log-Likelihood:                 1934.6\n",
      "No. Observations:                1000   AIC:                            -3865.\n",
      "Df Residuals:                     998   BIC:                            -3855.\n",
      "Df Model:                           1                                         \n",
      "Covariance Type:            nonrobust                                         \n",
      "====================================================================================\n",
      "                       coef    std err          t      P>|t|      [0.025      0.975]\n",
      "------------------------------------------------------------------------------------\n",
      "const                1.0079      0.004    234.052      0.000       0.999       1.016\n",
      "campaignDonation    -0.0120      0.000   -103.076      0.000      -0.012      -0.012\n",
      "==============================================================================\n",
      "Omnibus:                        0.370   Durbin-Watson:                   1.966\n",
      "Prob(Omnibus):                  0.831   Jarque-Bera (JB):                0.401\n",
      "Skew:                          -0.046   Prob(JB):                        0.818\n",
      "Kurtosis:                       2.965   Cond. No.                         144.\n",
      "==============================================================================\n",
      "\n",
      "Warnings:\n",
      "[1] Standard Errors assume that the covariance matrix of the errors is correctly specified.\n"
     ]
    }
   ],
   "source": [
    "print(reg1.summary())"
   ]
  },
  {
   "cell_type": "code",
   "execution_count": 32,
   "metadata": {},
   "outputs": [],
   "source": [
    "reg2 = sm.OLS(endog=df['votePercent'], exog=df[['const', 'campaignDonation','county']],missing='drop').fit()"
   ]
  },
  {
   "cell_type": "code",
   "execution_count": 34,
   "metadata": {},
   "outputs": [
    {
     "name": "stdout",
     "output_type": "stream",
     "text": [
      "                            OLS Regression Results                            \n",
      "==============================================================================\n",
      "Dep. Variable:            votePercent   R-squared:                       0.914\n",
      "Model:                            OLS   Adj. R-squared:                  0.914\n",
      "Method:                 Least Squares   F-statistic:                     5308.\n",
      "Date:                Wed, 01 Jul 2020   Prob (F-statistic):               0.00\n",
      "Time:                        16:31:48   Log-Likelihood:                 1934.6\n",
      "No. Observations:                1000   AIC:                            -3863.\n",
      "Df Residuals:                     997   BIC:                            -3849.\n",
      "Df Model:                           2                                         \n",
      "Covariance Type:            nonrobust                                         \n",
      "====================================================================================\n",
      "                       coef    std err          t      P>|t|      [0.025      0.975]\n",
      "------------------------------------------------------------------------------------\n",
      "const                1.0073      0.005    215.461      0.000       0.998       1.016\n",
      "campaignDonation    -0.0120      0.000   -102.993      0.000      -0.012      -0.012\n",
      "county            1.148e-05   3.84e-05      0.299      0.765   -6.38e-05    8.68e-05\n",
      "==============================================================================\n",
      "Omnibus:                        0.366   Durbin-Watson:                   1.967\n",
      "Prob(Omnibus):                  0.833   Jarque-Bera (JB):                0.398\n",
      "Skew:                          -0.046   Prob(JB):                        0.819\n",
      "Kurtosis:                       2.965   Cond. No.                         282.\n",
      "==============================================================================\n",
      "\n",
      "Warnings:\n",
      "[1] Standard Errors assume that the covariance matrix of the errors is correctly specified.\n"
     ]
    }
   ],
   "source": [
    "print(reg2.summary())"
   ]
  },
  {
   "cell_type": "code",
   "execution_count": 15,
   "metadata": {},
   "outputs": [
    {
     "name": "stdout",
     "output_type": "stream",
     "text": [
      "Coefficients:  [[-0.01203813]]\n",
      "Intercept:  [1.00786432]\n"
     ]
    }
   ],
   "source": [
    "from sklearn import linear_model\n",
    "regr = linear_model.LinearRegression()\n",
    "train_x = np.asanyarray(df[['campaignDonation']])\n",
    "train_y = np.asanyarray(df[['votePercent']])\n",
    "regr.fit (train_x, train_y)\n",
    "# The coefficients\n",
    "print ('Coefficients: ', regr.coef_)\n",
    "print ('Intercept: ',regr.intercept_)"
   ]
  },
  {
   "cell_type": "code",
   "execution_count": 52,
   "metadata": {},
   "outputs": [
    {
     "name": "stdout",
     "output_type": "stream",
     "text": [
      "                            OLS Regression Results                            \n",
      "==============================================================================\n",
      "Dep. Variable:            votePercent   R-squared:                       0.996\n",
      "Model:                            OLS   Adj. R-squared:                  0.996\n",
      "Method:                 Least Squares   F-statistic:                     2514.\n",
      "Date:                Wed, 01 Jul 2020   Prob (F-statistic):               0.00\n",
      "Time:                        17:19:25   Log-Likelihood:                 3525.6\n",
      "No. Observations:                1000   AIC:                            -6849.\n",
      "Df Residuals:                     899   BIC:                            -6353.\n",
      "Df Model:                         100                                         \n",
      "Covariance Type:            nonrobust                                         \n",
      "====================================================================================\n",
      "                       coef    std err          t      P>|t|      [0.025      0.975]\n",
      "------------------------------------------------------------------------------------\n",
      "Intercept           -0.2441      0.010    -25.469      0.000      -0.263      -0.225\n",
      "C(county)[T.2]       0.1286      0.004     36.714      0.000       0.122       0.135\n",
      "C(county)[T.3]       0.2915      0.004     72.990      0.000       0.284       0.299\n",
      "C(county)[T.4]       0.4310      0.005     92.692      0.000       0.422       0.440\n",
      "C(county)[T.5]       0.8141      0.007    117.494      0.000       0.800       0.828\n",
      "C(county)[T.6]       0.8226      0.007    119.855      0.000       0.809       0.836\n",
      "C(county)[T.7]       0.2944      0.004     73.312      0.000       0.287       0.302\n",
      "C(county)[T.8]       0.3603      0.004     83.660      0.000       0.352       0.369\n",
      "C(county)[T.9]       0.6749      0.006    115.122      0.000       0.663       0.686\n",
      "C(county)[T.10]      0.8402      0.007    118.234      0.000       0.826       0.854\n",
      "C(county)[T.11]      0.4839      0.005    100.092      0.000       0.474       0.493\n",
      "C(county)[T.12]      0.0239      0.003      7.102      0.000       0.017       0.031\n",
      "C(county)[T.13]      0.1268      0.004     35.891      0.000       0.120       0.134\n",
      "C(county)[T.14]      0.2772      0.004     69.324      0.000       0.269       0.285\n",
      "C(county)[T.15]      0.0507      0.003     14.951      0.000       0.044       0.057\n",
      "C(county)[T.16]      0.0800      0.003     23.268      0.000       0.073       0.087\n",
      "C(county)[T.17]      0.2440      0.004     63.181      0.000       0.236       0.252\n",
      "C(county)[T.18]      0.4371      0.005     94.063      0.000       0.428       0.446\n",
      "C(county)[T.19]      0.2731      0.004     69.916      0.000       0.265       0.281\n",
      "C(county)[T.20]      0.3592      0.004     83.112      0.000       0.351       0.368\n",
      "C(county)[T.21]      0.6813      0.006    110.606      0.000       0.669       0.693\n",
      "C(county)[T.22]      0.1659      0.004     46.149      0.000       0.159       0.173\n",
      "C(county)[T.23]      0.4930      0.005     99.739      0.000       0.483       0.503\n",
      "C(county)[T.24]      0.5512      0.005    105.087      0.000       0.541       0.562\n",
      "C(county)[T.25]      0.2533      0.004     64.726      0.000       0.246       0.261\n",
      "C(county)[T.26]      0.6601      0.006    110.972      0.000       0.648       0.672\n",
      "C(county)[T.27]     -0.0132      0.003     -3.932      0.000      -0.020      -0.007\n",
      "C(county)[T.28]      0.0914      0.003     26.402      0.000       0.085       0.098\n",
      "C(county)[T.29]      0.6166      0.006    110.071      0.000       0.606       0.628\n",
      "C(county)[T.30]      0.1803      0.004     49.831      0.000       0.173       0.187\n",
      "C(county)[T.31]      0.7503      0.006    116.065      0.000       0.738       0.763\n",
      "C(county)[T.32]      0.3578      0.004     83.176      0.000       0.349       0.366\n",
      "C(county)[T.33]      0.1954      0.004     53.533      0.000       0.188       0.203\n",
      "C(county)[T.34]      0.4284      0.005     93.430      0.000       0.419       0.437\n",
      "C(county)[T.35]      0.3420      0.004     82.465      0.000       0.334       0.350\n",
      "C(county)[T.36]      0.6553      0.006    111.493      0.000       0.644       0.667\n",
      "C(county)[T.37]      0.7333      0.006    116.423      0.000       0.721       0.746\n",
      "C(county)[T.38]      0.6370      0.006    109.742      0.000       0.626       0.648\n",
      "C(county)[T.39]      0.5904      0.005    107.578      0.000       0.580       0.601\n",
      "C(county)[T.40]      0.1894      0.004     52.340      0.000       0.182       0.196\n",
      "C(county)[T.41]      0.6605      0.006    111.692      0.000       0.649       0.672\n",
      "C(county)[T.42]      0.6041      0.006    106.784      0.000       0.593       0.615\n",
      "C(county)[T.43]      0.6961      0.006    112.806      0.000       0.684       0.708\n",
      "C(county)[T.44]      0.1202      0.004     34.307      0.000       0.113       0.127\n",
      "C(county)[T.45]     -0.0053      0.003     -1.566      0.118      -0.012       0.001\n",
      "C(county)[T.46]      0.6974      0.006    114.470      0.000       0.685       0.709\n",
      "C(county)[T.47]      0.3856      0.004     86.787      0.000       0.377       0.394\n",
      "C(county)[T.48]      0.4644      0.005     95.608      0.000       0.455       0.474\n",
      "C(county)[T.49]      0.1161      0.003     33.519      0.000       0.109       0.123\n",
      "C(county)[T.50]     -0.2814      0.004    -72.656      0.000      -0.289      -0.274\n",
      "C(county)[T.51]      0.3650      0.004     86.628      0.000       0.357       0.373\n",
      "C(county)[T.52]      0.1969      0.004     53.877      0.000       0.190       0.204\n",
      "C(county)[T.53]      0.2789      0.004     70.786      0.000       0.271       0.287\n",
      "C(county)[T.54]      0.3833      0.004     89.658      0.000       0.375       0.392\n",
      "C(county)[T.55]      0.6532      0.006    110.981      0.000       0.642       0.665\n",
      "C(county)[T.56]      0.6025      0.006    109.133      0.000       0.592       0.613\n",
      "C(county)[T.57]      0.2985      0.004     72.550      0.000       0.290       0.307\n",
      "C(county)[T.58]      0.1207      0.004     34.432      0.000       0.114       0.128\n",
      "C(county)[T.59]      0.5363      0.005    102.280      0.000       0.526       0.547\n",
      "C(county)[T.60]      0.4928      0.005     99.511      0.000       0.483       0.503\n",
      "C(county)[T.61]      0.7053      0.006    112.507      0.000       0.693       0.718\n",
      "C(county)[T.62]     -0.0037      0.003     -1.095      0.274      -0.010       0.003\n",
      "C(county)[T.63]      0.3419      0.004     81.857      0.000       0.334       0.350\n",
      "C(county)[T.64]      0.2063      0.004     54.980      0.000       0.199       0.214\n",
      "C(county)[T.65]      0.3455      0.004     79.771      0.000       0.337       0.354\n",
      "C(county)[T.66]      0.6358      0.006    113.526      0.000       0.625       0.647\n",
      "C(county)[T.67]      0.3893      0.004     86.602      0.000       0.380       0.398\n",
      "C(county)[T.68]      0.9011      0.007    121.527      0.000       0.887       0.916\n",
      "C(county)[T.69]      0.4187      0.005     91.082      0.000       0.410       0.428\n",
      "C(county)[T.70]      0.4277      0.005     92.080      0.000       0.419       0.437\n",
      "C(county)[T.71]      0.4904      0.005     98.878      0.000       0.481       0.500\n",
      "C(county)[T.72]      0.1586      0.004     43.772      0.000       0.151       0.166\n",
      "C(county)[T.73]      0.4618      0.005     97.339      0.000       0.452       0.471\n",
      "C(county)[T.74]      0.5908      0.006    107.014      0.000       0.580       0.602\n",
      "C(county)[T.75]     -0.0535      0.003    -15.848      0.000      -0.060      -0.047\n",
      "C(county)[T.76]      0.2534      0.004     65.377      0.000       0.246       0.261\n",
      "C(county)[T.77]      0.1070      0.003     31.018      0.000       0.100       0.114\n",
      "C(county)[T.78]      0.4811      0.005     98.629      0.000       0.472       0.491\n",
      "C(county)[T.79]      0.4650      0.005     98.619      0.000       0.456       0.474\n",
      "C(county)[T.80]      0.4937      0.005     99.120      0.000       0.484       0.503\n",
      "C(county)[T.81]      0.4964      0.005     99.672      0.000       0.487       0.506\n",
      "C(county)[T.82]      0.5665      0.005    105.403      0.000       0.556       0.577\n",
      "C(county)[T.83]      0.3369      0.004     80.972      0.000       0.329       0.345\n",
      "C(county)[T.84]      0.3510      0.004     81.989      0.000       0.343       0.359\n",
      "C(county)[T.85]     -0.0080      0.003     -2.385      0.017      -0.015      -0.001\n",
      "C(county)[T.86]      0.3385      0.004     80.925      0.000       0.330       0.347\n",
      "C(county)[T.87]      0.2607      0.004     67.447      0.000       0.253       0.268\n",
      "C(county)[T.88]      0.5281      0.005    103.082      0.000       0.518       0.538\n",
      "C(county)[T.89]      0.4547      0.005     95.667      0.000       0.445       0.464\n",
      "C(county)[T.90]      0.0559      0.003     16.404      0.000       0.049       0.063\n",
      "C(county)[T.91]      0.5249      0.005    100.925      0.000       0.515       0.535\n",
      "C(county)[T.92]      0.2939      0.004     72.767      0.000       0.286       0.302\n",
      "C(county)[T.93]      0.3813      0.004     84.915      0.000       0.372       0.390\n",
      "C(county)[T.94]      0.3626      0.004     83.792      0.000       0.354       0.371\n",
      "C(county)[T.95]      0.2083      0.004     55.794      0.000       0.201       0.216\n",
      "C(county)[T.96]      0.6905      0.006    114.847      0.000       0.679       0.702\n",
      "C(county)[T.97]      0.3262      0.004     80.189      0.000       0.318       0.334\n",
      "C(county)[T.98]      0.2743      0.004     69.035      0.000       0.266       0.282\n",
      "C(county)[T.99]      0.5627      0.005    106.278      0.000       0.552       0.573\n",
      "C(county)[T.100]     0.0804      0.003     23.710      0.000       0.074       0.087\n",
      "campaignDonation     0.0125      0.000     68.688      0.000       0.012       0.013\n",
      "==============================================================================\n",
      "Omnibus:                        2.155   Durbin-Watson:                   2.244\n",
      "Prob(Omnibus):                  0.340   Jarque-Bera (JB):                2.031\n",
      "Skew:                          -0.045   Prob(JB):                        0.362\n",
      "Kurtosis:                       2.799   Cond. No.                     6.26e+03\n",
      "==============================================================================\n",
      "\n",
      "Warnings:\n",
      "[1] Standard Errors assume that the covariance matrix of the errors is correctly specified.\n",
      "[2] The condition number is large, 6.26e+03. This might indicate that there are\n",
      "strong multicollinearity or other numerical problems.\n"
     ]
    }
   ],
   "source": [
    "import statsmodels.formula.api as smf\n",
    "lm = smf.ols('votePercent ~ campaignDonation +C(county)', data = df).fit()\n",
    "print(lm.summary())"
   ]
  },
  {
   "cell_type": "code",
   "execution_count": null,
   "metadata": {},
   "outputs": [],
   "source": []
  }
 ],
 "metadata": {
  "kernelspec": {
   "display_name": "Python 3",
   "language": "python",
   "name": "python3"
  },
  "language_info": {
   "codemirror_mode": {
    "name": "ipython",
    "version": 3
   },
   "file_extension": ".py",
   "mimetype": "text/x-python",
   "name": "python",
   "nbconvert_exporter": "python",
   "pygments_lexer": "ipython3",
   "version": "3.7.0"
  }
 },
 "nbformat": 4,
 "nbformat_minor": 4
}
