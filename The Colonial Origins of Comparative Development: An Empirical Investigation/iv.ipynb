{
 "cells": [
  {
   "cell_type": "code",
   "execution_count": 6,
   "metadata": {},
   "outputs": [],
   "source": [
    "import numpy as np\n",
    "import matplotlib.pyplot as plt\n",
    "%matplotlib inline\n",
    "import pandas as pd\n",
    "import statsmodels.api as sm\n",
    "from statsmodels.iolib.summary2 import summary_col \n",
    "from linearmodels.iv import IV2SLS"
   ]
  },
  {
   "cell_type": "code",
   "execution_count": 7,
   "metadata": {},
   "outputs": [],
   "source": [
    "df1= pd.read_stata('/Users/apple/Desktop/maketable1.dta')"
   ]
  },
  {
   "cell_type": "code",
   "execution_count": 8,
   "metadata": {},
   "outputs": [
    {
     "data": {
      "text/html": [
       "<div>\n",
       "<style scoped>\n",
       "    .dataframe tbody tr th:only-of-type {\n",
       "        vertical-align: middle;\n",
       "    }\n",
       "\n",
       "    .dataframe tbody tr th {\n",
       "        vertical-align: top;\n",
       "    }\n",
       "\n",
       "    .dataframe thead th {\n",
       "        text-align: right;\n",
       "    }\n",
       "</style>\n",
       "<table border=\"1\" class=\"dataframe\">\n",
       "  <thead>\n",
       "    <tr style=\"text-align: right;\">\n",
       "      <th></th>\n",
       "      <th>shortnam</th>\n",
       "      <th>euro1900</th>\n",
       "      <th>excolony</th>\n",
       "      <th>avexpr</th>\n",
       "      <th>logpgp95</th>\n",
       "      <th>cons1</th>\n",
       "      <th>cons90</th>\n",
       "      <th>democ00a</th>\n",
       "      <th>cons00a</th>\n",
       "      <th>extmort4</th>\n",
       "      <th>logem4</th>\n",
       "      <th>loghjypl</th>\n",
       "      <th>baseco</th>\n",
       "    </tr>\n",
       "  </thead>\n",
       "  <tbody>\n",
       "    <tr>\n",
       "      <th>0</th>\n",
       "      <td>AFG</td>\n",
       "      <td>0.000000</td>\n",
       "      <td>1.0</td>\n",
       "      <td>NaN</td>\n",
       "      <td>NaN</td>\n",
       "      <td>1.0</td>\n",
       "      <td>2.0</td>\n",
       "      <td>1.0</td>\n",
       "      <td>1.0</td>\n",
       "      <td>93.699997</td>\n",
       "      <td>4.540098</td>\n",
       "      <td>NaN</td>\n",
       "      <td>NaN</td>\n",
       "    </tr>\n",
       "    <tr>\n",
       "      <th>1</th>\n",
       "      <td>AGO</td>\n",
       "      <td>8.000000</td>\n",
       "      <td>1.0</td>\n",
       "      <td>5.363636</td>\n",
       "      <td>7.770645</td>\n",
       "      <td>3.0</td>\n",
       "      <td>3.0</td>\n",
       "      <td>0.0</td>\n",
       "      <td>1.0</td>\n",
       "      <td>280.000000</td>\n",
       "      <td>5.634789</td>\n",
       "      <td>-3.411248</td>\n",
       "      <td>1.0</td>\n",
       "    </tr>\n",
       "    <tr>\n",
       "      <th>2</th>\n",
       "      <td>ARE</td>\n",
       "      <td>0.000000</td>\n",
       "      <td>1.0</td>\n",
       "      <td>7.181818</td>\n",
       "      <td>9.804219</td>\n",
       "      <td>NaN</td>\n",
       "      <td>NaN</td>\n",
       "      <td>NaN</td>\n",
       "      <td>NaN</td>\n",
       "      <td>NaN</td>\n",
       "      <td>NaN</td>\n",
       "      <td>NaN</td>\n",
       "      <td>NaN</td>\n",
       "    </tr>\n",
       "    <tr>\n",
       "      <th>3</th>\n",
       "      <td>ARG</td>\n",
       "      <td>60.000004</td>\n",
       "      <td>1.0</td>\n",
       "      <td>6.386364</td>\n",
       "      <td>9.133459</td>\n",
       "      <td>1.0</td>\n",
       "      <td>6.0</td>\n",
       "      <td>3.0</td>\n",
       "      <td>3.0</td>\n",
       "      <td>68.900002</td>\n",
       "      <td>4.232656</td>\n",
       "      <td>-0.872274</td>\n",
       "      <td>1.0</td>\n",
       "    </tr>\n",
       "    <tr>\n",
       "      <th>4</th>\n",
       "      <td>ARM</td>\n",
       "      <td>0.000000</td>\n",
       "      <td>0.0</td>\n",
       "      <td>NaN</td>\n",
       "      <td>7.682482</td>\n",
       "      <td>NaN</td>\n",
       "      <td>NaN</td>\n",
       "      <td>NaN</td>\n",
       "      <td>NaN</td>\n",
       "      <td>NaN</td>\n",
       "      <td>NaN</td>\n",
       "      <td>NaN</td>\n",
       "      <td>NaN</td>\n",
       "    </tr>\n",
       "  </tbody>\n",
       "</table>\n",
       "</div>"
      ],
      "text/plain": [
       "  shortnam   euro1900  excolony    avexpr  logpgp95  cons1  cons90  democ00a  \\\n",
       "0      AFG   0.000000       1.0       NaN       NaN    1.0     2.0       1.0   \n",
       "1      AGO   8.000000       1.0  5.363636  7.770645    3.0     3.0       0.0   \n",
       "2      ARE   0.000000       1.0  7.181818  9.804219    NaN     NaN       NaN   \n",
       "3      ARG  60.000004       1.0  6.386364  9.133459    1.0     6.0       3.0   \n",
       "4      ARM   0.000000       0.0       NaN  7.682482    NaN     NaN       NaN   \n",
       "\n",
       "   cons00a    extmort4    logem4  loghjypl  baseco  \n",
       "0      1.0   93.699997  4.540098       NaN     NaN  \n",
       "1      1.0  280.000000  5.634789 -3.411248     1.0  \n",
       "2      NaN         NaN       NaN       NaN     NaN  \n",
       "3      3.0   68.900002  4.232656 -0.872274     1.0  \n",
       "4      NaN         NaN       NaN       NaN     NaN  "
      ]
     },
     "execution_count": 8,
     "metadata": {},
     "output_type": "execute_result"
    }
   ],
   "source": [
    "df1.head()"
   ]
  },
  {
   "cell_type": "code",
   "execution_count": 9,
   "metadata": {},
   "outputs": [
    {
     "data": {
      "text/plain": [
       "shortnam     0\n",
       "euro1900     9\n",
       "excolony     1\n",
       "avexpr      42\n",
       "logpgp95    15\n",
       "cons1       75\n",
       "cons90      75\n",
       "democ00a    76\n",
       "cons00a     72\n",
       "extmort4    76\n",
       "logem4      76\n",
       "loghjypl    40\n",
       "baseco      99\n",
       "dtype: int64"
      ]
     },
     "execution_count": 9,
     "metadata": {},
     "output_type": "execute_result"
    }
   ],
   "source": [
    "df1.isnull().sum()"
   ]
  },
  {
   "cell_type": "code",
   "execution_count": 10,
   "metadata": {},
   "outputs": [
    {
     "data": {
      "text/html": [
       "<div>\n",
       "<style scoped>\n",
       "    .dataframe tbody tr th:only-of-type {\n",
       "        vertical-align: middle;\n",
       "    }\n",
       "\n",
       "    .dataframe tbody tr th {\n",
       "        vertical-align: top;\n",
       "    }\n",
       "\n",
       "    .dataframe thead th {\n",
       "        text-align: right;\n",
       "    }\n",
       "</style>\n",
       "<table border=\"1\" class=\"dataframe\">\n",
       "  <thead>\n",
       "    <tr style=\"text-align: right;\">\n",
       "      <th></th>\n",
       "      <th>euro1900</th>\n",
       "      <th>excolony</th>\n",
       "      <th>avexpr</th>\n",
       "      <th>logpgp95</th>\n",
       "      <th>cons1</th>\n",
       "      <th>cons90</th>\n",
       "      <th>democ00a</th>\n",
       "      <th>cons00a</th>\n",
       "      <th>extmort4</th>\n",
       "      <th>logem4</th>\n",
       "      <th>loghjypl</th>\n",
       "      <th>baseco</th>\n",
       "    </tr>\n",
       "  </thead>\n",
       "  <tbody>\n",
       "    <tr>\n",
       "      <th>count</th>\n",
       "      <td>154.000000</td>\n",
       "      <td>162.000000</td>\n",
       "      <td>121.000000</td>\n",
       "      <td>148.000000</td>\n",
       "      <td>88.000000</td>\n",
       "      <td>88.000000</td>\n",
       "      <td>87.000000</td>\n",
       "      <td>91.000000</td>\n",
       "      <td>87.000000</td>\n",
       "      <td>87.000000</td>\n",
       "      <td>123.000000</td>\n",
       "      <td>64.0</td>\n",
       "    </tr>\n",
       "    <tr>\n",
       "      <th>mean</th>\n",
       "      <td>30.466232</td>\n",
       "      <td>0.666667</td>\n",
       "      <td>7.066491</td>\n",
       "      <td>8.302509</td>\n",
       "      <td>3.590909</td>\n",
       "      <td>3.636364</td>\n",
       "      <td>1.149425</td>\n",
       "      <td>1.857143</td>\n",
       "      <td>220.926437</td>\n",
       "      <td>4.595984</td>\n",
       "      <td>-1.731106</td>\n",
       "      <td>1.0</td>\n",
       "    </tr>\n",
       "    <tr>\n",
       "      <th>std</th>\n",
       "      <td>42.389862</td>\n",
       "      <td>0.472866</td>\n",
       "      <td>1.804287</td>\n",
       "      <td>1.105342</td>\n",
       "      <td>2.414689</td>\n",
       "      <td>2.339967</td>\n",
       "      <td>2.576859</td>\n",
       "      <td>1.823132</td>\n",
       "      <td>411.498230</td>\n",
       "      <td>1.303334</td>\n",
       "      <td>1.083726</td>\n",
       "      <td>0.0</td>\n",
       "    </tr>\n",
       "    <tr>\n",
       "      <th>min</th>\n",
       "      <td>0.000000</td>\n",
       "      <td>0.000000</td>\n",
       "      <td>1.636364</td>\n",
       "      <td>6.109248</td>\n",
       "      <td>1.000000</td>\n",
       "      <td>1.000000</td>\n",
       "      <td>0.000000</td>\n",
       "      <td>1.000000</td>\n",
       "      <td>2.550000</td>\n",
       "      <td>0.936093</td>\n",
       "      <td>-3.540459</td>\n",
       "      <td>1.0</td>\n",
       "    </tr>\n",
       "    <tr>\n",
       "      <th>25%</th>\n",
       "      <td>0.000000</td>\n",
       "      <td>0.000000</td>\n",
       "      <td>5.886364</td>\n",
       "      <td>7.376192</td>\n",
       "      <td>1.000000</td>\n",
       "      <td>1.750000</td>\n",
       "      <td>0.000000</td>\n",
       "      <td>1.000000</td>\n",
       "      <td>68.350006</td>\n",
       "      <td>4.224609</td>\n",
       "      <td>-2.741120</td>\n",
       "      <td>1.0</td>\n",
       "    </tr>\n",
       "    <tr>\n",
       "      <th>50%</th>\n",
       "      <td>1.950000</td>\n",
       "      <td>1.000000</td>\n",
       "      <td>7.045455</td>\n",
       "      <td>8.265764</td>\n",
       "      <td>3.000000</td>\n",
       "      <td>3.000000</td>\n",
       "      <td>0.000000</td>\n",
       "      <td>1.000000</td>\n",
       "      <td>85.000000</td>\n",
       "      <td>4.442651</td>\n",
       "      <td>-1.560648</td>\n",
       "      <td>1.0</td>\n",
       "    </tr>\n",
       "    <tr>\n",
       "      <th>75%</th>\n",
       "      <td>91.625000</td>\n",
       "      <td>1.000000</td>\n",
       "      <td>8.272727</td>\n",
       "      <td>9.216228</td>\n",
       "      <td>7.000000</td>\n",
       "      <td>7.000000</td>\n",
       "      <td>1.000000</td>\n",
       "      <td>1.000000</td>\n",
       "      <td>253.259995</td>\n",
       "      <td>5.610119</td>\n",
       "      <td>-0.831277</td>\n",
       "      <td>1.0</td>\n",
       "    </tr>\n",
       "    <tr>\n",
       "      <th>max</th>\n",
       "      <td>100.000000</td>\n",
       "      <td>1.000000</td>\n",
       "      <td>10.000000</td>\n",
       "      <td>10.288750</td>\n",
       "      <td>7.000000</td>\n",
       "      <td>7.000000</td>\n",
       "      <td>10.000000</td>\n",
       "      <td>7.000000</td>\n",
       "      <td>2940.000000</td>\n",
       "      <td>7.986165</td>\n",
       "      <td>0.000000</td>\n",
       "      <td>1.0</td>\n",
       "    </tr>\n",
       "  </tbody>\n",
       "</table>\n",
       "</div>"
      ],
      "text/plain": [
       "         euro1900    excolony      avexpr    logpgp95      cons1     cons90  \\\n",
       "count  154.000000  162.000000  121.000000  148.000000  88.000000  88.000000   \n",
       "mean    30.466232    0.666667    7.066491    8.302509   3.590909   3.636364   \n",
       "std     42.389862    0.472866    1.804287    1.105342   2.414689   2.339967   \n",
       "min      0.000000    0.000000    1.636364    6.109248   1.000000   1.000000   \n",
       "25%      0.000000    0.000000    5.886364    7.376192   1.000000   1.750000   \n",
       "50%      1.950000    1.000000    7.045455    8.265764   3.000000   3.000000   \n",
       "75%     91.625000    1.000000    8.272727    9.216228   7.000000   7.000000   \n",
       "max    100.000000    1.000000   10.000000   10.288750   7.000000   7.000000   \n",
       "\n",
       "        democ00a    cons00a     extmort4     logem4    loghjypl  baseco  \n",
       "count  87.000000  91.000000    87.000000  87.000000  123.000000    64.0  \n",
       "mean    1.149425   1.857143   220.926437   4.595984   -1.731106     1.0  \n",
       "std     2.576859   1.823132   411.498230   1.303334    1.083726     0.0  \n",
       "min     0.000000   1.000000     2.550000   0.936093   -3.540459     1.0  \n",
       "25%     0.000000   1.000000    68.350006   4.224609   -2.741120     1.0  \n",
       "50%     0.000000   1.000000    85.000000   4.442651   -1.560648     1.0  \n",
       "75%     1.000000   1.000000   253.259995   5.610119   -0.831277     1.0  \n",
       "max    10.000000   7.000000  2940.000000   7.986165    0.000000     1.0  "
      ]
     },
     "execution_count": 10,
     "metadata": {},
     "output_type": "execute_result"
    }
   ],
   "source": [
    "df1.describe()"
   ]
  },
  {
   "cell_type": "code",
   "execution_count": 12,
   "metadata": {},
   "outputs": [
    {
     "data": {
      "image/png": "[encoded data removed]",
      "text/plain": [
       "<Figure size 576x396 with 1 Axes>"
      ]
     },
     "metadata": {},
     "output_type": "display_data"
    }
   ],
   "source": [
    "plt.style.use('seaborn')\n",
    "df1.plot(x='avexpr',y='logpgp95',kind='scatter')\n",
    "plt.show()"
   ]
  },
  {
   "cell_type": "markdown",
   "metadata": {},
   "source": [
    "The plot shows a fairly strong positive relationship between protection against expropriation and log GDP per capita.\n"
   ]
  },
  {
   "cell_type": "markdown",
   "metadata": {},
   "source": [
    "## LM"
   ]
  },
  {
   "cell_type": "code",
   "execution_count": 16,
   "metadata": {},
   "outputs": [],
   "source": [
    "lm_sub=df1.dropna(subset=['avexpr','logpgp95'])"
   ]
  },
  {
   "cell_type": "code",
   "execution_count": 18,
   "metadata": {},
   "outputs": [
    {
     "data": {
      "text/plain": [
       "shortnam     0\n",
       "euro1900     2\n",
       "excolony     1\n",
       "avexpr       0\n",
       "logpgp95     0\n",
       "cons1       45\n",
       "cons90      45\n",
       "democ00a    46\n",
       "cons00a     44\n",
       "extmort4    41\n",
       "logem4      41\n",
       "loghjypl     9\n",
       "baseco      47\n",
       "dtype: int64"
      ]
     },
     "execution_count": 18,
     "metadata": {},
     "output_type": "execute_result"
    }
   ],
   "source": [
    "lm_sub.isnull().sum()\n",
    "# maintain the same dataframe, only drop the null value from 'avexpr','logpgp95' columns"
   ]
  },
  {
   "cell_type": "code",
   "execution_count": 31,
   "metadata": {},
   "outputs": [],
   "source": [
    "lm_sub = lm_sub[lm_sub['baseco'] == 1]\n",
    "X = lm_sub['avexpr']\n",
    "y = lm_sub['logpgp95']\n",
    "labels = lm_sub['shortnam']"
   ]
  },
  {
   "cell_type": "code",
   "execution_count": 32,
   "metadata": {},
   "outputs": [
    {
     "data": {
      "image/png": "[encoded data removed]",
      "text/plain": [
       "<Figure size 576x396 with 1 Axes>"
      ]
     },
     "metadata": {},
     "output_type": "display_data"
    }
   ],
   "source": [
    "# Replace markers with country labels\n",
    "fig, ax = plt.subplots() \n",
    "ax.scatter(X, y, marker='')\n",
    "\n",
    "for i, label in enumerate(labels): \n",
    "    ax.annotate(label, (X.iloc[i], y.iloc[i]))\n",
    "        # Fit a linear trend line\n",
    "ax.plot(np.unique(X),np.poly1d(np.polyfit(X, y, 1))(np.unique(X)), color='black')\n",
    "ax.set_xlim([3.3,10.5])\n",
    "ax.set_ylim([4,10.5])\n",
    "ax.set_xlabel('Average Expropriation Risk 1985-95') \n",
    "ax.set_ylabel('Log GDP per capita, PPP, 1995') \n",
    "ax.set_title('Figure 2: OLS relationship between expropriation risk and income') \n",
    "plt.show()"
   ]
  },
  {
   "cell_type": "code",
   "execution_count": 33,
   "metadata": {},
   "outputs": [],
   "source": [
    "df1['const'] = 1"
   ]
  },
  {
   "cell_type": "code",
   "execution_count": 36,
   "metadata": {},
   "outputs": [],
   "source": [
    "reg1 = sm.OLS(endog=df1['logpgp95'], exog=df1[['const', 'avexpr']],missing='drop')\n",
    "# missing='drop'"
   ]
  },
  {
   "cell_type": "code",
   "execution_count": 37,
   "metadata": {},
   "outputs": [],
   "source": [
    "result=reg1.fit()"
   ]
  },
  {
   "cell_type": "code",
   "execution_count": 38,
   "metadata": {},
   "outputs": [
    {
     "name": "stdout",
     "output_type": "stream",
     "text": [
      "                            OLS Regression Results                            \n",
      "==============================================================================\n",
      "Dep. Variable:               logpgp95   R-squared:                       0.611\n",
      "Model:                            OLS   Adj. R-squared:                  0.608\n",
      "Method:                 Least Squares   F-statistic:                     171.4\n",
      "Date:                Mon, 15 Jun 2020   Prob (F-statistic):           4.16e-24\n",
      "Time:                        12:33:57   Log-Likelihood:                -119.71\n",
      "No. Observations:                 111   AIC:                             243.4\n",
      "Df Residuals:                     109   BIC:                             248.8\n",
      "Df Model:                           1                                         \n",
      "Covariance Type:            nonrobust                                         \n",
      "==============================================================================\n",
      "                 coef    std err          t      P>|t|      [0.025      0.975]\n",
      "------------------------------------------------------------------------------\n",
      "const          4.6261      0.301     15.391      0.000       4.030       5.222\n",
      "avexpr         0.5319      0.041     13.093      0.000       0.451       0.612\n",
      "==============================================================================\n",
      "Omnibus:                        9.251   Durbin-Watson:                   1.689\n",
      "Prob(Omnibus):                  0.010   Jarque-Bera (JB):                9.170\n",
      "Skew:                          -0.680   Prob(JB):                       0.0102\n",
      "Kurtosis:                       3.362   Cond. No.                         33.2\n",
      "==============================================================================\n",
      "\n",
      "Warnings:\n",
      "[1] Standard Errors assume that the covariance matrix of the errors is correctly specified.\n"
     ]
    }
   ],
   "source": [
    "print(result.summary())"
   ]
  },
  {
   "cell_type": "markdown",
   "metadata": {},
   "source": [
    "The R-squared value of 0.611 indicates that around 61% of variation in log GDP per\n",
    "capita is explained by protection against expropriation."
   ]
  },
  {
   "cell_type": "code",
   "execution_count": 39,
   "metadata": {},
   "outputs": [
    {
     "data": {
      "text/plain": [
       "array([7.28544615])"
      ]
     },
     "execution_count": 39,
     "metadata": {},
     "output_type": "execute_result"
    }
   ],
   "source": [
    "result.predict(exog=[1,5])"
   ]
  },
  {
   "cell_type": "markdown",
   "metadata": {},
   "source": [
    "## Graph the predicted lm line"
   ]
  },
  {
   "cell_type": "code",
   "execution_count": 40,
   "metadata": {},
   "outputs": [],
   "source": [
    "df1_plot=df1.dropna(subset=['logpgp95', 'avexpr'])"
   ]
  },
  {
   "cell_type": "code",
   "execution_count": 44,
   "metadata": {},
   "outputs": [
    {
     "data": {
      "text/plain": [
       "<matplotlib.legend.Legend at 0x11f9c8748>"
      ]
     },
     "execution_count": 44,
     "metadata": {},
     "output_type": "execute_result"
    },
    {
     "data": {
      "image/png": "[encoded data removed]",
      "text/plain": [
       "<Figure size 576x396 with 1 Axes>"
      ]
     },
     "metadata": {},
     "output_type": "display_data"
    }
   ],
   "source": [
    "\n",
    "fix, ax = plt.subplots()\n",
    "ax.scatter(df1_plot['avexpr'], result.predict(), alpha=0.8,\n",
    "label='predicted')\n",
    "# predict value\n",
    "ax.scatter(df1_plot['avexpr'], df1_plot['logpgp95'], alpha=0.8, label='observed')\n",
    "ax.legend()"
   ]
  },
  {
   "cell_type": "code",
   "execution_count": 45,
   "metadata": {},
   "outputs": [],
   "source": [
    "df2= pd.read_stata('/Users/apple/Desktop/maketable2.dta')"
   ]
  },
  {
   "cell_type": "code",
   "execution_count": 46,
   "metadata": {},
   "outputs": [
    {
     "data": {
      "text/html": [
       "<div>\n",
       "<style scoped>\n",
       "    .dataframe tbody tr th:only-of-type {\n",
       "        vertical-align: middle;\n",
       "    }\n",
       "\n",
       "    .dataframe tbody tr th {\n",
       "        vertical-align: top;\n",
       "    }\n",
       "\n",
       "    .dataframe thead th {\n",
       "        text-align: right;\n",
       "    }\n",
       "</style>\n",
       "<table border=\"1\" class=\"dataframe\">\n",
       "  <thead>\n",
       "    <tr style=\"text-align: right;\">\n",
       "      <th></th>\n",
       "      <th>africa</th>\n",
       "      <th>lat_abst</th>\n",
       "      <th>avexpr</th>\n",
       "      <th>logpgp95</th>\n",
       "      <th>other</th>\n",
       "      <th>asia</th>\n",
       "      <th>loghjypl</th>\n",
       "      <th>baseco</th>\n",
       "    </tr>\n",
       "  </thead>\n",
       "  <tbody>\n",
       "    <tr>\n",
       "      <th>count</th>\n",
       "      <td>163.000000</td>\n",
       "      <td>162.000000</td>\n",
       "      <td>121.000000</td>\n",
       "      <td>148.000000</td>\n",
       "      <td>163.000000</td>\n",
       "      <td>163.000000</td>\n",
       "      <td>123.000000</td>\n",
       "      <td>64.0</td>\n",
       "    </tr>\n",
       "    <tr>\n",
       "      <th>mean</th>\n",
       "      <td>0.306748</td>\n",
       "      <td>0.295550</td>\n",
       "      <td>7.066491</td>\n",
       "      <td>8.302509</td>\n",
       "      <td>0.024540</td>\n",
       "      <td>0.257669</td>\n",
       "      <td>-1.731106</td>\n",
       "      <td>1.0</td>\n",
       "    </tr>\n",
       "    <tr>\n",
       "      <th>std</th>\n",
       "      <td>0.462565</td>\n",
       "      <td>0.190379</td>\n",
       "      <td>1.804287</td>\n",
       "      <td>1.105342</td>\n",
       "      <td>0.155195</td>\n",
       "      <td>0.438698</td>\n",
       "      <td>1.083726</td>\n",
       "      <td>0.0</td>\n",
       "    </tr>\n",
       "    <tr>\n",
       "      <th>min</th>\n",
       "      <td>0.000000</td>\n",
       "      <td>0.000000</td>\n",
       "      <td>1.636364</td>\n",
       "      <td>6.109248</td>\n",
       "      <td>0.000000</td>\n",
       "      <td>0.000000</td>\n",
       "      <td>-3.540459</td>\n",
       "      <td>1.0</td>\n",
       "    </tr>\n",
       "    <tr>\n",
       "      <th>25%</th>\n",
       "      <td>0.000000</td>\n",
       "      <td>0.144444</td>\n",
       "      <td>5.886364</td>\n",
       "      <td>7.376192</td>\n",
       "      <td>0.000000</td>\n",
       "      <td>0.000000</td>\n",
       "      <td>-2.741120</td>\n",
       "      <td>1.0</td>\n",
       "    </tr>\n",
       "    <tr>\n",
       "      <th>50%</th>\n",
       "      <td>0.000000</td>\n",
       "      <td>0.266667</td>\n",
       "      <td>7.045455</td>\n",
       "      <td>8.265764</td>\n",
       "      <td>0.000000</td>\n",
       "      <td>0.000000</td>\n",
       "      <td>-1.560648</td>\n",
       "      <td>1.0</td>\n",
       "    </tr>\n",
       "    <tr>\n",
       "      <th>75%</th>\n",
       "      <td>1.000000</td>\n",
       "      <td>0.446944</td>\n",
       "      <td>8.272727</td>\n",
       "      <td>9.216228</td>\n",
       "      <td>0.000000</td>\n",
       "      <td>1.000000</td>\n",
       "      <td>-0.831277</td>\n",
       "      <td>1.0</td>\n",
       "    </tr>\n",
       "    <tr>\n",
       "      <th>max</th>\n",
       "      <td>1.000000</td>\n",
       "      <td>0.722222</td>\n",
       "      <td>10.000000</td>\n",
       "      <td>10.288750</td>\n",
       "      <td>1.000000</td>\n",
       "      <td>1.000000</td>\n",
       "      <td>0.000000</td>\n",
       "      <td>1.0</td>\n",
       "    </tr>\n",
       "  </tbody>\n",
       "</table>\n",
       "</div>"
      ],
      "text/plain": [
       "           africa    lat_abst      avexpr    logpgp95       other        asia  \\\n",
       "count  163.000000  162.000000  121.000000  148.000000  163.000000  163.000000   \n",
       "mean     0.306748    0.295550    7.066491    8.302509    0.024540    0.257669   \n",
       "std      0.462565    0.190379    1.804287    1.105342    0.155195    0.438698   \n",
       "min      0.000000    0.000000    1.636364    6.109248    0.000000    0.000000   \n",
       "25%      0.000000    0.144444    5.886364    7.376192    0.000000    0.000000   \n",
       "50%      0.000000    0.266667    7.045455    8.265764    0.000000    0.000000   \n",
       "75%      1.000000    0.446944    8.272727    9.216228    0.000000    1.000000   \n",
       "max      1.000000    0.722222   10.000000   10.288750    1.000000    1.000000   \n",
       "\n",
       "         loghjypl  baseco  \n",
       "count  123.000000    64.0  \n",
       "mean    -1.731106     1.0  \n",
       "std      1.083726     0.0  \n",
       "min     -3.540459     1.0  \n",
       "25%     -2.741120     1.0  \n",
       "50%     -1.560648     1.0  \n",
       "75%     -0.831277     1.0  \n",
       "max      0.000000     1.0  "
      ]
     },
     "execution_count": 46,
     "metadata": {},
     "output_type": "execute_result"
    }
   ],
   "source": [
    "df2.describe()"
   ]
  },
  {
   "cell_type": "code",
   "execution_count": 47,
   "metadata": {},
   "outputs": [],
   "source": [
    "df2['const']=1\n",
    "X1=['const','avexpr']\n",
    "X2=['const','avexpr','lat_abst']\n",
    "X3=['const','avexpr','lat_abst','asia','africa','other']"
   ]
  },
  {
   "cell_type": "code",
   "execution_count": 49,
   "metadata": {},
   "outputs": [],
   "source": [
    "reg1=sm.OLS(df2['logpgp95'],df2[X1],missing='drop').fit()\n",
    "reg2=sm.OLS(df2['logpgp95'],df2[X2],missing='drop').fit()\n",
    "reg3=sm.OLS(df2['logpgp95'],df2[X3],missing='drop').fit()"
   ]
  },
  {
   "cell_type": "code",
   "execution_count": 54,
   "metadata": {},
   "outputs": [],
   "source": [
    "info_dict={'R-squared' : lambda x: f\"{x.rsquared:.2f}\",\n",
    "'No. observations' : lambda x: f\"{int(x.nobs):d}\"}\n",
    "results_table = summary_col(results=[reg1,reg2,reg3], float_format='%0.2f',stars = True, model_names=['Model 1',\n",
    "'Model 3','Model 4'],info_dict=info_dict,regressor_order=['const', 'avexpr',\n",
    "                                                      'lat_abst',\n",
    "                                                      'asia',\n",
    "                                                      'africa'])\n",
    "results_table.add_title('Table 2 - OLS Regressions')"
   ]
  },
  {
   "cell_type": "code",
   "execution_count": 55,
   "metadata": {},
   "outputs": [
    {
     "name": "stdout",
     "output_type": "stream",
     "text": [
      "        Table 2 - OLS Regressions\n",
      "=========================================\n",
      "                 Model 1 Model 3 Model 4 \n",
      "-----------------------------------------\n",
      "const            4.63*** 4.87*** 5.85*** \n",
      "                 (0.30)  (0.33)  (0.34)  \n",
      "avexpr           0.53*** 0.46*** 0.39*** \n",
      "                 (0.04)  (0.06)  (0.05)  \n",
      "lat_abst                 0.87*   0.33    \n",
      "                         (0.49)  (0.45)  \n",
      "asia                             -0.15   \n",
      "                                 (0.15)  \n",
      "africa                           -0.92***\n",
      "                                 (0.17)  \n",
      "R-squared        0.61    0.62    0.70    \n",
      "                 0.61    0.62    0.72    \n",
      "other                            0.30    \n",
      "                                 (0.37)  \n",
      "R-squared        0.61    0.62    0.72    \n",
      "No. observations 111     111     111     \n",
      "=========================================\n",
      "Standard errors in parentheses.\n",
      "* p<.1, ** p<.05, ***p<.01\n"
     ]
    }
   ],
   "source": [
    "print(results_table)"
   ]
  },
  {
   "cell_type": "markdown",
   "metadata": {},
   "source": [
    "## two-stage least squares (2SLS)"
   ]
  },
  {
   "cell_type": "markdown",
   "metadata": {},
   "source": [
    "First stage:\n",
    "\n",
    "           𝑎𝑣𝑒𝑥𝑝𝑟𝑖 = 𝛿0 + 𝛿1𝑙𝑜𝑔𝑒𝑚4𝑖 + 𝑣𝑖"
   ]
  },
  {
   "cell_type": "code",
   "execution_count": 59,
   "metadata": {},
   "outputs": [
    {
     "data": {
      "image/png": "[encoded data removed]",
      "text/plain": [
       "<Figure size 576x396 with 1 Axes>"
      ]
     },
     "metadata": {},
     "output_type": "display_data"
    }
   ],
   "source": [
    "# Dropping NA's is required to use numpy's polyfit df1_subset2 = df1.dropna(subset=['logem4', 'avexpr'])\n",
    "df1_subset2 = df1.dropna(subset=['logem4', 'avexpr'])\n",
    "X = df1_subset2['logem4']\n",
    "y = df1_subset2['avexpr']\n",
    "labels = df1_subset2['shortnam']\n",
    "         # Replace markers with country labels\n",
    "fig, ax = plt.subplots() \n",
    "ax.scatter(X, y, marker='')\n",
    "for i, label in enumerate(labels): \n",
    "    ax.annotate(label, (X.iloc[i], y.iloc[i]))\n",
    "         # Fit a linear trend line\n",
    "ax.plot(np.unique(X),\n",
    "np.poly1d(np.polyfit(X, y, 1))(np.unique(X)), color='black')\n",
    "ax.set_xlim([1.8,8.4]) \n",
    "ax.set_ylim([3.3,10.4])\n",
    "ax.set_xlabel('Log of Settler Mortality')\n",
    "ax.set_ylabel('Average Expropriation Risk 1985-95') \n",
    "ax.set_title('Figure 3: First-stage relationship between settler mortality and expropriation risk')\n",
    "plt.show()"
   ]
  },
  {
   "cell_type": "code",
   "execution_count": 67,
   "metadata": {},
   "outputs": [],
   "source": [
    "df4= pd.read_stata('/Users/apple/Desktop/maketable4.dta')"
   ]
  },
  {
   "cell_type": "code",
   "execution_count": 68,
   "metadata": {},
   "outputs": [],
   "source": [
    "df4 = df4[df4['baseco'] == 1]\n",
    "df4['const'] = 1"
   ]
  },
  {
   "cell_type": "code",
   "execution_count": 70,
   "metadata": {},
   "outputs": [
    {
     "name": "stdout",
     "output_type": "stream",
     "text": [
      "                            OLS Regression Results                            \n",
      "==============================================================================\n",
      "Dep. Variable:                 avexpr   R-squared:                       0.270\n",
      "Model:                            OLS   Adj. R-squared:                  0.258\n",
      "Method:                 Least Squares   F-statistic:                     22.95\n",
      "Date:                Mon, 15 Jun 2020   Prob (F-statistic):           1.08e-05\n",
      "Time:                        12:58:39   Log-Likelihood:                -104.83\n",
      "No. Observations:                  64   AIC:                             213.7\n",
      "Df Residuals:                      62   BIC:                             218.0\n",
      "Df Model:                           1                                         \n",
      "Covariance Type:            nonrobust                                         \n",
      "==============================================================================\n",
      "                 coef    std err          t      P>|t|      [0.025      0.975]\n",
      "------------------------------------------------------------------------------\n",
      "const          9.3414      0.611     15.296      0.000       8.121      10.562\n",
      "logem4        -0.6068      0.127     -4.790      0.000      -0.860      -0.354\n",
      "==============================================================================\n",
      "Omnibus:                        0.035   Durbin-Watson:                   2.003\n",
      "Prob(Omnibus):                  0.983   Jarque-Bera (JB):                0.172\n",
      "Skew:                           0.045   Prob(JB):                        0.918\n",
      "Kurtosis:                       2.763   Cond. No.                         19.4\n",
      "==============================================================================\n",
      "\n",
      "Warnings:\n",
      "[1] Standard Errors assume that the covariance matrix of the errors is correctly specified.\n"
     ]
    }
   ],
   "source": [
    "results_fs = sm.OLS(df4['avexpr'], df4[['const', 'logem4']],missing='drop').fit() \n",
    "print(results_fs.summary())"
   ]
  },
  {
   "cell_type": "markdown",
   "metadata": {},
   "source": [
    "## Second stage"
   ]
  },
  {
   "cell_type": "markdown",
   "metadata": {},
   "source": [
    "We need to retrieve the predicted values of 𝑎𝑣𝑒𝑥𝑝𝑟𝑖 using .predict():\n",
    "                \n",
    "                𝑙𝑜𝑔𝑝𝑔𝑝95𝑖 = 𝛽0 + 𝛽1𝑎𝑣̂𝑒𝑥𝑝𝑟𝑖 + 𝑢𝑖"
   ]
  },
  {
   "cell_type": "code",
   "execution_count": 71,
   "metadata": {},
   "outputs": [],
   "source": [
    "df4['predicted_avexpr'] = results_fs.predict()"
   ]
  },
  {
   "cell_type": "code",
   "execution_count": 76,
   "metadata": {},
   "outputs": [],
   "source": [
    "result_ss=sm.OLS(df4['logpgp95'],df4[['const','predicted_avexpr']],missing='drop').fit()"
   ]
  },
  {
   "cell_type": "code",
   "execution_count": 77,
   "metadata": {},
   "outputs": [
    {
     "name": "stdout",
     "output_type": "stream",
     "text": [
      "                            OLS Regression Results                            \n",
      "==============================================================================\n",
      "Dep. Variable:               logpgp95   R-squared:                       0.477\n",
      "Model:                            OLS   Adj. R-squared:                  0.469\n",
      "Method:                 Least Squares   F-statistic:                     56.60\n",
      "Date:                Mon, 15 Jun 2020   Prob (F-statistic):           2.66e-10\n",
      "Time:                        13:01:54   Log-Likelihood:                -72.268\n",
      "No. Observations:                  64   AIC:                             148.5\n",
      "Df Residuals:                      62   BIC:                             152.9\n",
      "Df Model:                           1                                         \n",
      "Covariance Type:            nonrobust                                         \n",
      "====================================================================================\n",
      "                       coef    std err          t      P>|t|      [0.025      0.975]\n",
      "------------------------------------------------------------------------------------\n",
      "const                1.9097      0.823      2.320      0.024       0.264       3.555\n",
      "predicted_avexpr     0.9443      0.126      7.523      0.000       0.693       1.195\n",
      "==============================================================================\n",
      "Omnibus:                       10.547   Durbin-Watson:                   2.137\n",
      "Prob(Omnibus):                  0.005   Jarque-Bera (JB):               11.010\n",
      "Skew:                          -0.790   Prob(JB):                      0.00407\n",
      "Kurtosis:                       4.277   Cond. No.                         58.1\n",
      "==============================================================================\n",
      "\n",
      "Warnings:\n",
      "[1] Standard Errors assume that the covariance matrix of the errors is correctly specified.\n"
     ]
    }
   ],
   "source": [
    "print(result_ss.summary())"
   ]
  },
  {
   "cell_type": "markdown",
   "metadata": {},
   "source": [
    "# two stages equals to"
   ]
  },
  {
   "cell_type": "code",
   "execution_count": 80,
   "metadata": {},
   "outputs": [],
   "source": [
    "iv=IV2SLS(dependent=df4['logpgp95'],\n",
    "         exog=df4['const'],\n",
    "         endog=df4['avexpr'],\n",
    "         instruments=df4['logem4']).fit(cov_type='unadjusted')"
   ]
  },
  {
   "cell_type": "code",
   "execution_count": 81,
   "metadata": {},
   "outputs": [
    {
     "name": "stdout",
     "output_type": "stream",
     "text": [
      "                          IV-2SLS Estimation Summary                          \n",
      "==============================================================================\n",
      "Dep. Variable:               logpgp95   R-squared:                      0.1870\n",
      "Estimator:                    IV-2SLS   Adj. R-squared:                 0.1739\n",
      "No. Observations:                  64   F-statistic:                    37.568\n",
      "Date:                Mon, Jun 15 2020   P-value (F-stat)                0.0000\n",
      "Time:                        13:04:14   Distribution:                  chi2(1)\n",
      "Cov. Estimator:            unadjusted                                         \n",
      "                                                                              \n",
      "                             Parameter Estimates                              \n",
      "==============================================================================\n",
      "            Parameter  Std. Err.     T-stat    P-value    Lower CI    Upper CI\n",
      "------------------------------------------------------------------------------\n",
      "const          1.9097     1.0106     1.8897     0.0588     -0.0710      3.8903\n",
      "avexpr         0.9443     0.1541     6.1293     0.0000      0.6423      1.2462\n",
      "==============================================================================\n",
      "\n",
      "Endogenous: avexpr\n",
      "Instruments: logem4\n",
      "Unadjusted Covariance (Homoskedastic)\n",
      "Debiased: False\n"
     ]
    }
   ],
   "source": [
    "print(iv.summary)"
   ]
  },
  {
   "cell_type": "markdown",
   "metadata": {},
   "source": [
    "## Hausman test"
   ]
  },
  {
   "cell_type": "markdown",
   "metadata": {},
   "source": [
    "We want to test for correlation between the endogenous variable, 𝑎𝑣𝑒𝑥𝑝𝑟𝑖, and the errors, 𝑢𝑖 \n",
    "\n",
    "𝐻0 ∶ 𝐶𝑜𝑣(𝑎𝑣𝑒𝑥𝑝𝑟𝑖, 𝑢𝑖) = 0 (𝑛𝑜 𝑒𝑛𝑑𝑜𝑔𝑒𝑛𝑒𝑖𝑡𝑦)\n",
    "\n",
    "𝐻1 ∶ 𝐶𝑜𝑣(𝑎𝑣𝑒𝑥𝑝𝑟𝑖, 𝑢𝑖) ≠ 0 (𝑒𝑛𝑑𝑜𝑔𝑒𝑛𝑒𝑖𝑡𝑦)"
   ]
  },
  {
   "cell_type": "code",
   "execution_count": 83,
   "metadata": {},
   "outputs": [],
   "source": [
    "reg1 = sm.OLS(endog=df4['avexpr'], exog=df4[['const', 'logem4']],\n",
    "missing='drop').fit()"
   ]
  },
  {
   "cell_type": "code",
   "execution_count": 84,
   "metadata": {},
   "outputs": [],
   "source": [
    "df4['error']=reg1.resid"
   ]
  },
  {
   "cell_type": "code",
   "execution_count": 86,
   "metadata": {},
   "outputs": [],
   "source": [
    "reg2=sm.OLS(endog=df4['logpgp95'],\n",
    "           exog=df4[['const','avexpr','error']],\n",
    "           missing='drop').fit()"
   ]
  },
  {
   "cell_type": "code",
   "execution_count": 89,
   "metadata": {},
   "outputs": [
    {
     "name": "stdout",
     "output_type": "stream",
     "text": [
      "                            OLS Regression Results                            \n",
      "==============================================================================\n",
      "Dep. Variable:               logpgp95   R-squared:                       0.671\n",
      "Model:                            OLS   Adj. R-squared:                  0.660\n",
      "Method:                 Least Squares   F-statistic:                     62.15\n",
      "Date:                Mon, 15 Jun 2020   Prob (F-statistic):           1.91e-15\n",
      "Time:                        13:10:35   Log-Likelihood:                -57.468\n",
      "No. Observations:                  64   AIC:                             120.9\n",
      "Df Residuals:                      61   BIC:                             127.4\n",
      "Df Model:                           2                                         \n",
      "Covariance Type:            nonrobust                                         \n",
      "==============================================================================\n",
      "                 coef    std err          t      P>|t|      [0.025      0.975]\n",
      "------------------------------------------------------------------------------\n",
      "const          1.9097      0.659      2.899      0.005       0.593       3.227\n",
      "avexpr         0.9443      0.100      9.404      0.000       0.743       1.145\n",
      "error         -0.5784      0.118     -4.921      0.000      -0.813      -0.343\n",
      "==============================================================================\n",
      "Omnibus:                       19.562   Durbin-Watson:                   2.166\n",
      "Prob(Omnibus):                  0.000   Jarque-Bera (JB):               27.899\n",
      "Skew:                          -1.168   Prob(JB):                     8.74e-07\n",
      "Kurtosis:                       5.237   Cond. No.                         59.8\n",
      "==============================================================================\n",
      "\n",
      "Warnings:\n",
      "[1] Standard Errors assume that the covariance matrix of the errors is correctly specified.\n"
     ]
    }
   ],
   "source": [
    "print(reg2.summary())"
   ]
  },
  {
   "cell_type": "markdown",
   "metadata": {},
   "source": [
    "The output shows that the coefficient on the residuals is statistically significant, indicating 𝑎𝑣𝑒𝑥𝑝𝑟𝑖 is endogenous."
   ]
  }
 ],
 "metadata": {
  "kernelspec": {
   "display_name": "Python 3",
   "language": "python",
   "name": "python3"
  },
  "language_info": {
   "codemirror_mode": {
    "name": "ipython",
    "version": 3
   },
   "file_extension": ".py",
   "mimetype": "text/x-python",
   "name": "python",
   "nbconvert_exporter": "python",
   "pygments_lexer": "ipython3",
   "version": "3.7.0"
  }
 },
 "nbformat": 4,
 "nbformat_minor": 4
}
